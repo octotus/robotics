{
 "cells": [
  {
   "cell_type": "code",
   "execution_count": 107,
   "id": "30ff52a5",
   "metadata": {},
   "outputs": [],
   "source": [
    "import time\n",
    "import numpy as np\n",
    "import math\n",
    "\n",
    "class motor():\n",
    "    def __init__(self, name, pin_list):\n",
    "        self.name = name\n",
    "        self.chA = pin_list[0]\n",
    "        self.chB = pin_list[1]\n",
    "        self.dir = pin_list[2]\n",
    "        self.pwm = pin_list[3]\n",
    "        self.wheel_radius=0\n",
    "        self.fwd_flag=True\n",
    "        self.pwm_val=0\n",
    "        self.dir_val = 0\n",
    "        \n",
    "    def stop(self):\n",
    "        self.pwm_val=0\n",
    "        self.dir_val=0\n",
    "    \n",
    "    @property\n",
    "    def circumference(self):\n",
    "        return 2*math.pi*self.wheel_radius\n",
    "            \n",
    "    \n",
    "    def initiate_encoder(self):\n",
    "        print(\"Encoder A is connected to: \",self.chA)\n",
    "        time.sleep(1)\n",
    "        print(\"Encoder B is connected to: \",self.chB)\n",
    "        time.sleep(1)\n",
    "        print(\"starting encoder pins ...\")\n",
    "        time.sleep(2)\n",
    "        print(\"all done\")\n",
    "        \n",
    "    def move_forward(self,ext_pwm_val):\n",
    "        # First check and stop any reverse movement\n",
    "        if(self.fwd_flag==False):\n",
    "            print(f\"flag set @ {self.fwd_flag}\")\n",
    "            print(\"stopping motor\")\n",
    "            self.fwd_flag=True\n",
    "            self.pwm_val=0\n",
    "            self.dir_val=0\n",
    "            time.sleep(0.1)\n",
    "\n",
    "        # Set dir and pwm_value with external input >>\n",
    "        self.dir_val = 1\n",
    "        self.pwm_val=ext_pwm_val\n",
    "        #time.sleep(0.5)\n",
    "        \n",
    "        print(f\"direction on {self.dir} set to {self.dir_val}\")\n",
    "        time.sleep(1)\n",
    "        print(f\"pwm on {self.pwm} set to {self.pwm_val}\")\n",
    "        time.sleep(1)\n",
    "        print(f\"running at {self.pwm_val} speed\")\n",
    "        return(self.fwd_flag,self.dir_val,self.pwm_val)\n",
    "\n",
    "\n",
    "    def move_reverse(self,ext_pwm_val):\n",
    "        if(self.fwd_flag==True):\n",
    "            print(f\"flag set @ {self.fwd_flag}\")\n",
    "            print(\"stopping motor\")\n",
    "            self.fwd_flag=False\n",
    "            self.pwm_val=0\n",
    "            self.dir_val=0\n",
    "            time.sleep(0.1)\n",
    "            \n",
    "        #set dir and pwm_value with external input >>        \n",
    "        self.dir_val=-1\n",
    "        self.pwm_val = ext_pwm_val\n",
    "        #time.sleep(0.5)\n",
    "        print(f\"direction on {self.dir} set to {self.dir_val}\")\n",
    "        time.sleep(1)\n",
    "        print(f\"pwm on {self.pwm} set to {self.pwm_val}\")\n",
    "        time.sleep(1)\n",
    "        print(f\"running reverse at {self.pwm_val} speed\")\n",
    "        return(self.fwd_flag,self.dir_val,self.pwm_val)\n"
   ]
  },
  {
   "cell_type": "code",
   "execution_count": 108,
   "id": "e7c09818",
   "metadata": {},
   "outputs": [],
   "source": [
    "l=[22,23,17,18]\n",
    "m1 = motor(\"left\",l)"
   ]
  },
  {
   "cell_type": "code",
   "execution_count": 109,
   "id": "b7c8f008",
   "metadata": {},
   "outputs": [
    {
     "name": "stdout",
     "output_type": "stream",
     "text": [
      "Encoder A is connected to:  22\n",
      "Encoder B is connected to:  23\n",
      "starting encoder pins ...\n",
      "all done\n"
     ]
    }
   ],
   "source": [
    "m1.initiate_encoder()"
   ]
  },
  {
   "cell_type": "code",
   "execution_count": 110,
   "id": "5915a545",
   "metadata": {},
   "outputs": [
    {
     "name": "stdout",
     "output_type": "stream",
     "text": [
      "direction on 17 set to 1\n",
      "pwm on 18 set to 0.3\n",
      "running at 0.3 speed\n"
     ]
    },
    {
     "data": {
      "text/plain": [
       "(True, 1, 0.3)"
      ]
     },
     "execution_count": 110,
     "metadata": {},
     "output_type": "execute_result"
    }
   ],
   "source": [
    "m1.move_forward(0.3)"
   ]
  },
  {
   "cell_type": "code",
   "execution_count": 111,
   "id": "08e1dbef",
   "metadata": {},
   "outputs": [
    {
     "name": "stdout",
     "output_type": "stream",
     "text": [
      "direction on 17 set to 1\n",
      "pwm on 18 set to 0.2\n",
      "running at 0.2 speed\n"
     ]
    },
    {
     "data": {
      "text/plain": [
       "(True, 1, 0.2)"
      ]
     },
     "execution_count": 111,
     "metadata": {},
     "output_type": "execute_result"
    }
   ],
   "source": [
    "m1.move_forward(0.2)"
   ]
  },
  {
   "cell_type": "code",
   "execution_count": 57,
   "id": "dd151bbc",
   "metadata": {},
   "outputs": [
    {
     "name": "stdout",
     "output_type": "stream",
     "text": [
      "direction on 17 set to 1\n",
      "pwm on 18 set to 0.5\n",
      "running at 0.5 speed\n"
     ]
    }
   ],
   "source": [
    "m1.move_forward(0.5)"
   ]
  },
  {
   "cell_type": "code",
   "execution_count": 112,
   "id": "91ecee31",
   "metadata": {},
   "outputs": [
    {
     "name": "stdout",
     "output_type": "stream",
     "text": [
      "flag set @ True\n",
      "stopping motor\n",
      "direction on 17 set to -1\n",
      "pwm on 18 set to 0.3\n",
      "running reverse at 0.3 speed\n"
     ]
    },
    {
     "data": {
      "text/plain": [
       "(False, -1, 0.3)"
      ]
     },
     "execution_count": 112,
     "metadata": {},
     "output_type": "execute_result"
    }
   ],
   "source": [
    "m1.move_reverse(0.3)"
   ]
  },
  {
   "cell_type": "code",
   "execution_count": null,
   "id": "acaa808d",
   "metadata": {},
   "outputs": [],
   "source": []
  }
 ],
 "metadata": {
  "kernelspec": {
   "display_name": "Python 3 (ipykernel)",
   "language": "python",
   "name": "python3"
  },
  "language_info": {
   "codemirror_mode": {
    "name": "ipython",
    "version": 3
   },
   "file_extension": ".py",
   "mimetype": "text/x-python",
   "name": "python",
   "nbconvert_exporter": "python",
   "pygments_lexer": "ipython3",
   "version": "3.9.5"
  }
 },
 "nbformat": 4,
 "nbformat_minor": 5
}
