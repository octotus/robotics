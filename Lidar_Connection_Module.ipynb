{
 "cells": [
  {
   "cell_type": "code",
   "execution_count": null,
   "id": "dba0a6ea",
   "metadata": {},
   "outputs": [],
   "source": [
    "from pyrplidar import PyRPlidar"
   ]
  },
  {
   "cell_type": "code",
   "execution_count": null,
   "id": "d7b56990",
   "metadata": {},
   "outputs": [],
   "source": [
    "lidar=PyRPlidar()\n",
    "\n",
    "lidar.connect(port='/dev/ttyUSB1',baudrate=460800)"
   ]
  },
  {
   "cell_type": "code",
   "execution_count": null,
   "id": "64817eee",
   "metadata": {},
   "outputs": [],
   "source": [
    "print(lidar.get_health())"
   ]
  },
  {
   "cell_type": "code",
   "execution_count": null,
   "id": "c5dd61e0",
   "metadata": {},
   "outputs": [],
   "source": [
    "lidar.start_scan_express(0)"
   ]
  },
  {
   "cell_type": "code",
   "execution_count": null,
   "id": "94599d26",
   "metadata": {},
   "outputs": [],
   "source": [
    "from rplidar import RPLidar"
   ]
  },
  {
   "cell_type": "code",
   "execution_count": null,
   "id": "6204c0e9",
   "metadata": {},
   "outputs": [],
   "source": [
    "lidar=RPLidar(port='/dev/ttyUSB1')"
   ]
  },
  {
   "cell_type": "code",
   "execution_count": null,
   "id": "67b35c3d",
   "metadata": {},
   "outputs": [],
   "source": [
    "lidar.baudrate=460800"
   ]
  },
  {
   "cell_type": "code",
   "execution_count": null,
   "id": "a0baa39d",
   "metadata": {},
   "outputs": [],
   "source": [
    "lidar.connect()"
   ]
  },
  {
   "cell_type": "code",
   "execution_count": null,
   "id": "b7d4019a",
   "metadata": {},
   "outputs": [],
   "source": [
    "lidar.get_health()"
   ]
  },
  {
   "cell_type": "code",
   "execution_count": null,
   "id": "9ef59884",
   "metadata": {},
   "outputs": [],
   "source": [
    "lidar.get_info()"
   ]
  },
  {
   "cell_type": "code",
   "execution_count": null,
   "id": "21b38b1d",
   "metadata": {},
   "outputs": [],
   "source": [
    "lidar.set_pwm(200)"
   ]
  },
  {
   "cell_type": "code",
   "execution_count": null,
   "id": "305e7f5d",
   "metadata": {},
   "outputs": [],
   "source": [
    "for i in range(0,10):\n",
    "    scan=lidar.iter_measurments()\n",
    "    print(scan)"
   ]
  },
  {
   "cell_type": "code",
   "execution_count": null,
   "id": "32e2a556",
   "metadata": {},
   "outputs": [],
   "source": [
    "import sys"
   ]
  },
  {
   "cell_type": "code",
   "execution_count": 77,
   "id": "03979cec",
   "metadata": {},
   "outputs": [],
   "source": [
    "import subprocess\n"
   ]
  },
  {
   "cell_type": "code",
   "execution_count": 78,
   "id": "9c7280a3",
   "metadata": {},
   "outputs": [],
   "source": [
    "command='timeout 5 rplidar_ultra_simple --channel --serial /dev/ttyUSB1 460800 >scan_result'\n"
   ]
  },
  {
   "cell_type": "code",
   "execution_count": 79,
   "id": "0d279dd9",
   "metadata": {},
   "outputs": [
    {
     "data": {
      "text/plain": [
       "CompletedProcess(args='timeout 5 rplidar_ultra_simple --channel --serial /dev/ttyUSB1 460800 >scan_result', returncode=124)"
      ]
     },
     "execution_count": 79,
     "metadata": {},
     "output_type": "execute_result"
    }
   ],
   "source": [
    "subprocess.run(command,shell=True)"
   ]
  },
  {
   "cell_type": "code",
   "execution_count": 93,
   "id": "fe84586c",
   "metadata": {},
   "outputs": [],
   "source": [
    "file=open(\"/home/k/ROS/rplidar_sdk-master/output/Linux/Release/output\",\"r\")"
   ]
  },
  {
   "cell_type": "code",
   "execution_count": 81,
   "id": "e3bf9824",
   "metadata": {},
   "outputs": [],
   "source": [
    "from matplotlib import pyplot as plt"
   ]
  },
  {
   "cell_type": "code",
   "execution_count": 104,
   "id": "971d1dc6",
   "metadata": {},
   "outputs": [
    {
     "data": {
      "text/plain": [
       "<matplotlib.collections.PathCollection at 0x70e083bcb760>"
      ]
     },
     "execution_count": 104,
     "metadata": {},
     "output_type": "execute_result"
    },
    {
     "data": {
      "image/png": "[encoded data removed]",
      "text/plain": [
       "<Figure size 432x288 with 1 Axes>"
      ]
     },
     "metadata": {
      "needs_background": "light"
     },
     "output_type": "display_data"
    }
   ],
   "source": [
    "file=open(\"/home/k/ROS/rplidar_sdk-master/output/Linux/Release/output\",\"r\")\n",
    "\n",
    "list_data=[]\n",
    "arr=[]\n",
    "for line in file.readlines():\n",
    "    if(line[0] == ' '):\n",
    "        line=line.strip()\n",
    "        arr=line.split(' ')\n",
    "        if(len(arr)==6):\n",
    "            d={}\n",
    "            d[arr[0]]=arr[1]\n",
    "            d[arr[2]]=arr[3]\n",
    "            d[arr[4]]=arr[5]\n",
    "            list_data.append(d)\n",
    "file.close()\n",
    "\n",
    "x=pd.DataFrame(list_data)\n",
    "x['theta:']=x['theta:'].astype(float)\n",
    "x['Dist:'] = x['Dist:'].astype(float)\n",
    "x['Q:']=x['Q:'].astype(int)\n",
    "\n",
    "l=[]\n",
    "for i in x.iterrows():\n",
    "    d={}\n",
    "    theta=i[1]['theta:']\n",
    "    dist=i[1]['Dist:']\n",
    "    d['xcoord']=math.cos(math.radians(theta))*dist\n",
    "    d['ycoord']=math.sin(math.radians(theta))*dist\n",
    "    l.append(d)\n",
    "    \n",
    "y=pd.DataFrame(l)\n",
    "\n",
    "final=pd.concat([x,y],axis=1)\n",
    "\n",
    "plt.scatter(final['xcoord'],final['ycoord'],s=1)"
   ]
  },
  {
   "cell_type": "code",
   "execution_count": 83,
   "id": "792a51d6",
   "metadata": {},
   "outputs": [],
   "source": [
    "import pandas as pd"
   ]
  },
  {
   "cell_type": "code",
   "execution_count": null,
   "id": "a64eea55",
   "metadata": {},
   "outputs": [],
   "source": []
  },
  {
   "cell_type": "code",
   "execution_count": 84,
   "id": "62200301",
   "metadata": {},
   "outputs": [],
   "source": [
    "import math\n"
   ]
  },
  {
   "cell_type": "code",
   "execution_count": 95,
   "id": "670e2c8c",
   "metadata": {},
   "outputs": [],
   "source": []
  },
  {
   "cell_type": "code",
   "execution_count": 96,
   "id": "832b8332",
   "metadata": {},
   "outputs": [],
   "source": [
    "t=0.47\n",
    "d=306\n",
    "\n",
    "xcoord=math.cos(math.radians(t))*d\n",
    "ycoord=math.sin(math.radians(t))*d"
   ]
  },
  {
   "cell_type": "code",
   "execution_count": 97,
   "id": "8f01e268",
   "metadata": {},
   "outputs": [
    {
     "data": {
      "text/plain": [
       "(305.9897046895624, 2.51010437918164)"
      ]
     },
     "execution_count": 97,
     "metadata": {},
     "output_type": "execute_result"
    }
   ],
   "source": [
    "(xcoord,ycoord)"
   ]
  },
  {
   "cell_type": "code",
   "execution_count": 98,
   "id": "8efc1098",
   "metadata": {},
   "outputs": [],
   "source": []
  },
  {
   "cell_type": "code",
   "execution_count": 99,
   "id": "ffcaa697",
   "metadata": {},
   "outputs": [],
   "source": []
  },
  {
   "cell_type": "code",
   "execution_count": 100,
   "id": "91d1285e",
   "metadata": {},
   "outputs": [
    {
     "data": {
      "text/html": [
       "<div>\n",
       "<style scoped>\n",
       "    .dataframe tbody tr th:only-of-type {\n",
       "        vertical-align: middle;\n",
       "    }\n",
       "\n",
       "    .dataframe tbody tr th {\n",
       "        vertical-align: top;\n",
       "    }\n",
       "\n",
       "    .dataframe thead th {\n",
       "        text-align: right;\n",
       "    }\n",
       "</style>\n",
       "<table border=\"1\" class=\"dataframe\">\n",
       "  <thead>\n",
       "    <tr style=\"text-align: right;\">\n",
       "      <th></th>\n",
       "      <th>xcoord</th>\n",
       "      <th>ycoord</th>\n",
       "    </tr>\n",
       "  </thead>\n",
       "  <tbody>\n",
       "    <tr>\n",
       "      <th>0</th>\n",
       "      <td>1458.835650</td>\n",
       "      <td>21.898522</td>\n",
       "    </tr>\n",
       "    <tr>\n",
       "      <th>1</th>\n",
       "      <td>1473.553688</td>\n",
       "      <td>36.270215</td>\n",
       "    </tr>\n",
       "    <tr>\n",
       "      <th>2</th>\n",
       "      <td>1488.119946</td>\n",
       "      <td>51.186180</td>\n",
       "    </tr>\n",
       "    <tr>\n",
       "      <th>3</th>\n",
       "      <td>1499.559931</td>\n",
       "      <td>65.734424</td>\n",
       "    </tr>\n",
       "    <tr>\n",
       "      <th>4</th>\n",
       "      <td>1511.813007</td>\n",
       "      <td>81.347606</td>\n",
       "    </tr>\n",
       "    <tr>\n",
       "      <th>...</th>\n",
       "      <td>...</td>\n",
       "      <td>...</td>\n",
       "    </tr>\n",
       "    <tr>\n",
       "      <th>12490</th>\n",
       "      <td>0.000000</td>\n",
       "      <td>-0.000000</td>\n",
       "    </tr>\n",
       "    <tr>\n",
       "      <th>12491</th>\n",
       "      <td>603.681506</td>\n",
       "      <td>-647.142673</td>\n",
       "    </tr>\n",
       "    <tr>\n",
       "      <th>12492</th>\n",
       "      <td>611.430934</td>\n",
       "      <td>-639.825924</td>\n",
       "    </tr>\n",
       "    <tr>\n",
       "      <th>12493</th>\n",
       "      <td>622.700373</td>\n",
       "      <td>-635.880685</td>\n",
       "    </tr>\n",
       "    <tr>\n",
       "      <th>12494</th>\n",
       "      <td>636.089174</td>\n",
       "      <td>-633.872670</td>\n",
       "    </tr>\n",
       "  </tbody>\n",
       "</table>\n",
       "<p>12495 rows × 2 columns</p>\n",
       "</div>"
      ],
      "text/plain": [
       "            xcoord      ycoord\n",
       "0      1458.835650   21.898522\n",
       "1      1473.553688   36.270215\n",
       "2      1488.119946   51.186180\n",
       "3      1499.559931   65.734424\n",
       "4      1511.813007   81.347606\n",
       "...            ...         ...\n",
       "12490     0.000000   -0.000000\n",
       "12491   603.681506 -647.142673\n",
       "12492   611.430934 -639.825924\n",
       "12493   622.700373 -635.880685\n",
       "12494   636.089174 -633.872670\n",
       "\n",
       "[12495 rows x 2 columns]"
      ]
     },
     "execution_count": 100,
     "metadata": {},
     "output_type": "execute_result"
    }
   ],
   "source": [
    "y"
   ]
  },
  {
   "cell_type": "code",
   "execution_count": 101,
   "id": "81990f11",
   "metadata": {},
   "outputs": [],
   "source": []
  },
  {
   "cell_type": "code",
   "execution_count": 106,
   "id": "9ecee3ee",
   "metadata": {},
   "outputs": [
    {
     "data": {
      "text/plain": [
       "<matplotlib.collections.PathCollection at 0x70e083a64310>"
      ]
     },
     "execution_count": 106,
     "metadata": {},
     "output_type": "execute_result"
    },
    {
     "data": {
      "image/png": "[encoded data removed]",
      "text/plain": [
       "<Figure size 432x288 with 1 Axes>"
      ]
     },
     "metadata": {
      "needs_background": "light"
     },
     "output_type": "display_data"
    }
   ],
   "source": [
    "plt.scatter(final['xcoord'],final['ycoord'],s=.2)"
   ]
  },
  {
   "cell_type": "code",
   "execution_count": null,
   "id": "5d593bce",
   "metadata": {},
   "outputs": [],
   "source": []
  }
 ],
 "metadata": {
  "kernelspec": {
   "display_name": "Python 3 (ipykernel)",
   "language": "python",
   "name": "python3"
  },
  "language_info": {
   "codemirror_mode": {
    "name": "ipython",
    "version": 3
   },
   "file_extension": ".py",
   "mimetype": "text/x-python",
   "name": "python",
   "nbconvert_exporter": "python",
   "pygments_lexer": "ipython3",
   "version": "3.10.12"
  }
 },
 "nbformat": 4,
 "nbformat_minor": 5
}
