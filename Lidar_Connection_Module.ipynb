{
 "cells": [
  {
   "cell_type": "code",
   "execution_count": 1,
   "id": "03979cec",
   "metadata": {},
   "outputs": [
    {
     "name": "stderr",
     "output_type": "stream",
     "text": [
      "/home/k/.local/lib/python3.10/site-packages/matplotlib/projections/__init__.py:63: UserWarning: Unable to import Axes3D. This may be due to multiple versions of Matplotlib being installed (e.g. as a system package and as a pip package). As a result, the 3D projection is not available.\n",
      "  warnings.warn(\"Unable to import Axes3D. This may be due to multiple versions of \"\n"
     ]
    }
   ],
   "source": [
    "import subprocess\n",
    "import pandas as pd\n",
    "from matplotlib import pyplot as plt\n",
    "import math"
   ]
  },
  {
   "cell_type": "code",
   "execution_count": 46,
   "id": "b241d0f4",
   "metadata": {},
   "outputs": [],
   "source": [
    "def dist_del(df_row):\n",
    "    try:\n",
    "        a=df_row['x_diff']\n",
    "        b=df_row['y_diff']\n",
    "        return(math.sqrt(a**2 + b**2))\n",
    "    except:\n",
    "        return(None)"
   ]
  },
  {
   "cell_type": "code",
   "execution_count": null,
   "id": "9c7280a3",
   "metadata": {},
   "outputs": [],
   "source": [
    "#Run Lidar SDK for 5 seconds and save data to an output file\n",
    "\n",
    "command='timeout 5 rplidar_ultra_simple --channel --serial /dev/ttyUSB1 460800 >scan_result'\n",
    "subprocess.run(command,shell=True)"
   ]
  },
  {
   "cell_type": "code",
   "execution_count": 100,
   "id": "971d1dc6",
   "metadata": {},
   "outputs": [],
   "source": [
    "file=open(\"/home/k/ROS/rplidar_sdk-master/output/Linux/Release/scan_result\",\"r\")\n",
    "\n",
    "list_data=[]\n",
    "arr=[]\n",
    "for line in file.readlines():\n",
    "    if(line[0] == ' '):\n",
    "        line=line.strip()\n",
    "        arr=line.split(' ')\n",
    "        if(len(arr)==6):\n",
    "            d={}\n",
    "            d[arr[0]]=arr[1]\n",
    "            d[arr[2]]=arr[3]\n",
    "            d[arr[4]]=arr[5]\n",
    "            list_data.append(d)\n",
    "file.close()\n",
    "\n",
    "x=pd.DataFrame(list_data)\n",
    "x['theta:']=x['theta:'].astype(float)\n",
    "x['Dist:'] = x['Dist:'].astype(float)\n",
    "x['Q:']=x['Q:'].astype(int)\n",
    "\n",
    "l=[]\n",
    "for i in x.iterrows():\n",
    "    d={}\n",
    "    theta=i[1]['theta:']\n",
    "    dist=i[1]['Dist:']\n",
    "    d['xcoord']=math.cos(math.radians(theta))*dist\n",
    "    d['ycoord']=math.sin(math.radians(theta))*dist\n",
    "    l.append(d)\n",
    "\n",
    "y=pd.DataFrame(l)\n",
    "\n",
    "final=pd.concat([x,y],axis=1)\n",
    "\n",
    "final = final[final['Q:']>0]\n",
    "\n",
    "final['x_diff']=final['xcoord'].diff()\n",
    "final['y_diff']=final['ycoord'].diff()\n",
    "final['delta_dist']=final.apply(dist_del,axis=1)\n",
    "a=[a/10.0 for a in range(0,11)]\n",
    "cut_off=final['delta_dist'].quantile(0.8)\n",
    "final_filt=final[final.delta_dist <= cut_off]\n"
   ]
  },
  {
   "cell_type": "code",
   "execution_count": 106,
   "id": "e4ec5795",
   "metadata": {},
   "outputs": [
    {
     "data": {
      "image/png": "[encoded data removed]",
      "text/plain": [
       "<Figure size 432x288 with 1 Axes>"
      ]
     },
     "metadata": {
      "needs_background": "light"
     },
     "output_type": "display_data"
    }
   ],
   "source": [
    "plot=plt.scatter(final['xcoord'],final['ycoord'],s=.0001,marker='.')\n"
   ]
  },
  {
   "cell_type": "code",
   "execution_count": 88,
   "id": "57e52dea",
   "metadata": {},
   "outputs": [
    {
     "data": {
      "text/plain": [
       "286.82223102299815"
      ]
     },
     "execution_count": 88,
     "metadata": {},
     "output_type": "execute_result"
    }
   ],
   "source": [
    "final_filt.ycoord.max()-final_filt.ycoord.min()"
   ]
  },
  {
   "cell_type": "code",
   "execution_count": 97,
   "id": "4a89387e",
   "metadata": {},
   "outputs": [
    {
     "data": {
      "image/png": "[encoded data removed]",
      "text/plain": [
       "<Figure size 432x288 with 1 Axes>"
      ]
     },
     "metadata": {
      "needs_background": "light"
     },
     "output_type": "display_data"
    }
   ],
   "source": [
    "h=plt.hist(final_filt['Q:'],bins=300)"
   ]
  },
  {
   "cell_type": "code",
   "execution_count": 40,
   "id": "afe30920",
   "metadata": {},
   "outputs": [],
   "source": []
  },
  {
   "cell_type": "code",
   "execution_count": 41,
   "id": "3fda7c66",
   "metadata": {},
   "outputs": [
    {
     "data": {
      "text/plain": [
       "0.0       0.000000\n",
       "0.1      10.550858\n",
       "0.2      13.874174\n",
       "0.3      17.342072\n",
       "0.4      20.849705\n",
       "0.5      25.700480\n",
       "0.6      29.241273\n",
       "0.7      35.318733\n",
       "0.8      72.494966\n",
       "0.9    1503.000000\n",
       "1.0    4488.000000\n",
       "Name: delta_dist, dtype: float64"
      ]
     },
     "execution_count": 41,
     "metadata": {},
     "output_type": "execute_result"
    }
   ],
   "source": []
  },
  {
   "cell_type": "code",
   "execution_count": 45,
   "id": "930f2115",
   "metadata": {},
   "outputs": [
    {
     "data": {
      "text/plain": [
       "10113"
      ]
     },
     "execution_count": 45,
     "metadata": {},
     "output_type": "execute_result"
    }
   ],
   "source": [
    "len(final[final['delta_dist']< 100])"
   ]
  },
  {
   "cell_type": "code",
   "execution_count": null,
   "id": "f269d758",
   "metadata": {},
   "outputs": [],
   "source": []
  },
  {
   "cell_type": "code",
   "execution_count": null,
   "id": "75e04314",
   "metadata": {},
   "outputs": [],
   "source": []
  }
 ],
 "metadata": {
  "kernelspec": {
   "display_name": "Python 3 (ipykernel)",
   "language": "python",
   "name": "python3"
  },
  "language_info": {
   "codemirror_mode": {
    "name": "ipython",
    "version": 3
   },
   "file_extension": ".py",
   "mimetype": "text/x-python",
   "name": "python",
   "nbconvert_exporter": "python",
   "pygments_lexer": "ipython3",
   "version": "3.10.12"
  }
 },
 "nbformat": 4,
 "nbformat_minor": 5
}
